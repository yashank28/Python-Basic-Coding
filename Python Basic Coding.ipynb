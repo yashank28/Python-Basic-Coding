{
 "cells": [
  {
   "cell_type": "code",
   "execution_count": 1,
   "id": "fb4239a7",
   "metadata": {},
   "outputs": [
    {
     "name": "stdout",
     "output_type": "stream",
     "text": [
      "33.510321638291124\n"
     ]
    }
   ],
   "source": [
    "#Write a program in Python to calculate the volume of a sphere.\n",
    "from math import pi\n",
    "\n",
    "def volume(r):\n",
    "    v = ((4*pi*r**3)/3)\n",
    "    return v\n",
    "\n",
    "print(volume(2))"
   ]
  },
  {
   "cell_type": "code",
   "execution_count": 2,
   "id": "f37efb18",
   "metadata": {},
   "outputs": [
    {
     "name": "stdout",
     "output_type": "stream",
     "text": [
      "Enter number: 5\n",
      "\n",
      "\n",
      "1 \n",
      "\n",
      "2 2 \n",
      "\n",
      "3 3 3 \n",
      "\n",
      "4 4 4 4 \n",
      "\n"
     ]
    }
   ],
   "source": [
    "n = int(input(\"Enter number: \"))\n",
    "for i in range(n):\n",
    "    for j in range(i):\n",
    "        print(i, end=\" \")\n",
    "    print(\"\\n\")"
   ]
  },
  {
   "cell_type": "code",
   "execution_count": 3,
   "id": "52fb48eb",
   "metadata": {},
   "outputs": [
    {
     "name": "stdout",
     "output_type": "stream",
     "text": [
      "7 14 21 28 "
     ]
    }
   ],
   "source": [
    "# Range function program to return multiple of 7 within a given range 1,30.\n",
    "for i in range(1,30):\n",
    "    if i%7 == 0:\n",
    "        print(i, end=\" \")"
   ]
  },
  {
   "cell_type": "code",
   "execution_count": 4,
   "id": "aae7bc1d",
   "metadata": {},
   "outputs": [
    {
     "name": "stdout",
     "output_type": "stream",
     "text": [
      "Enter value of a: 5\n",
      "Enter value of b: 8\n",
      "\n",
      "a is 5 b is 8\n",
      "\n",
      "after swapping\n",
      "a is 8 b is 5\n"
     ]
    }
   ],
   "source": [
    "#Write a program in Python to swap between two numbers without using a third variable.\n",
    "a = int(input(\"Enter value of a: \"))\n",
    "b = int(input(\"Enter value of b: \"))\n",
    "print(f\"\\na is {a} b is {b}\")\n",
    "a = a + b\n",
    "b = a - b\n",
    "a = a - b\n",
    "print(\"\\nafter swapping\")\n",
    "print(f\"a is {a} b is {b}\")"
   ]
  },
  {
   "cell_type": "code",
   "execution_count": 5,
   "id": "46be04c1",
   "metadata": {},
   "outputs": [
    {
     "name": "stdout",
     "output_type": "stream",
     "text": [
      "Enter any character: o\n",
      "o is vowel\n"
     ]
    }
   ],
   "source": [
    "#Write a program to check wheteher the given word is vowel or consonent.\n",
    "val = input(\"Enter any character: \")\n",
    "if val in ['a','e','i','o','u']:\n",
    "    print(f\"{val} is vowel\")\n",
    "else:\n",
    "    print(f\"{val} is consonent\")"
   ]
  },
  {
   "cell_type": "code",
   "execution_count": 6,
   "id": "21c70b62",
   "metadata": {},
   "outputs": [
    {
     "name": "stdout",
     "output_type": "stream",
     "text": [
      "Enter starting range: 8\n",
      "Enter ending range: 7\n",
      "Even number counts is 0\n",
      "Odd number counts is 0\n"
     ]
    }
   ],
   "source": [
    "#Write a program to count the occurence of even number and odd number between the range 10 – 55.\n",
    "num1 = int(input(\"Enter starting range: \"))\n",
    "num2 = int(input(\"Enter ending range: \"))\n",
    "eve_count = 0\n",
    "odd_count = 0\n",
    "for i in range(num1, num2):\n",
    "    if i%2 == 0:\n",
    "        eve_count += 1\n",
    "    else:\n",
    "        odd_count += 1\n",
    "print(f\"Even number counts is {eve_count}\")\n",
    "print(f\"Odd number counts is {odd_count}\")"
   ]
  },
  {
   "cell_type": "code",
   "execution_count": 7,
   "id": "74f58b40",
   "metadata": {},
   "outputs": [
    {
     "name": "stdout",
     "output_type": "stream",
     "text": [
      "Enter value 1: 8\n",
      "Enter value 2: 8\n",
      "Press 1 for Add & 2 for Subtract6\n",
      "None\n"
     ]
    }
   ],
   "source": [
    "#Write a program to perform subtract and addition operation using switch.\n",
    "#Press 1 for Add & 2 for Subtract\n",
    "a = int(input(\"Enter value 1: \"))\n",
    "b = int(input(\"Enter value 2: \"))\n",
    "choice = {\n",
    "    '1': a+b,\n",
    "    '2': a-b\n",
    "    }\n",
    "z = input(\"Press 1 for Add & 2 for Subtract\")\n",
    "print(choice.get(z))"
   ]
  },
  {
   "cell_type": "code",
   "execution_count": 8,
   "id": "330dee0e",
   "metadata": {},
   "outputs": [
    {
     "name": "stdout",
     "output_type": "stream",
     "text": [
      "0.5\n"
     ]
    }
   ],
   "source": [
    "#Write a program in Python to calculates acceleration given initial velocity v1, final velocity v2, start time t1, and end time t2.\n",
    "\n",
    "#Formula: a = (V2 – V1 / t2 – t1)\n",
    "def acceleration(v1, v2, t1, t2):\n",
    "    a = (v2 - v1) / (t2 - t1)\n",
    "    return a\n",
    "\n",
    "print(acceleration(0,10,0,20))"
   ]
  },
  {
   "cell_type": "code",
   "execution_count": 9,
   "id": "23917694",
   "metadata": {},
   "outputs": [
    {
     "name": "stdout",
     "output_type": "stream",
     "text": [
      "Enter value 1: 8\n",
      "Enter value 2: 8\n",
      "Enter value 3: 2\n",
      "\n",
      " before sorting 8 8 2\n",
      "\n",
      " after sorting [2, 8, 8]\n"
     ]
    }
   ],
   "source": [
    "#Write a program in Python to sort 3 numbers without using loops or conditional statements.\n",
    "val1 = int(input(\"Enter value 1: \"))\n",
    "val2 = int(input(\"Enter value 2: \"))\n",
    "val3 = int(input(\"Enter value 3: \"))\n",
    "print(\"\\n before sorting\",val1, val2, val3)\n",
    "s = []\n",
    "s.append(int(val1))\n",
    "s.append(int(val2))\n",
    "s.append(int(val3))\n",
    "s.sort()\n",
    "print(\"\\n after sorting\",s)"
   ]
  },
  {
   "cell_type": "code",
   "execution_count": 10,
   "id": "a0fcbca6",
   "metadata": {},
   "outputs": [
    {
     "name": "stdout",
     "output_type": "stream",
     "text": [
      "11 12 13 14 16 17 18 19 21 22 23 24 "
     ]
    }
   ],
   "source": [
    "# Write a program in Python to print number ranging from 1 to 25 but excluding number which is the multiples of 5.\n",
    "for i in range(10,25):\n",
    "    if i%5 == 0:\n",
    "        pass\n",
    "    else:\n",
    "        print(i, end=\" \")"
   ]
  },
  {
   "cell_type": "code",
   "execution_count": 11,
   "id": "f483dc0d",
   "metadata": {},
   "outputs": [
    {
     "name": "stdout",
     "output_type": "stream",
     "text": [
      "Enter number to check: 2\n",
      "2 occurs 1 time\n"
     ]
    }
   ],
   "source": [
    "#Write a program in Python to count the occurrence of a specific value in a list.\n",
    "x = int(input(\"Enter number to check: \"))\n",
    "a = [1,3,3,4,3,2,3]\n",
    "count = 0\n",
    "for i in range(len(a)):\n",
    "    if a[i] == x:\n",
    "        count = count+1 \n",
    "print(f\"{x} occurs {count} time\")"
   ]
  },
  {
   "cell_type": "code",
   "execution_count": 12,
   "id": "d5dfad54",
   "metadata": {},
   "outputs": [
    {
     "name": "stdout",
     "output_type": "stream",
     "text": [
      "Enter the word you want to check: adam\n",
      "2\n"
     ]
    }
   ],
   "source": [
    "# Write a program in Python to count the occurrence of a specific word in a string.\n",
    "string_ = \"adam is a boy and adam loves to play cricket.\"\n",
    "x = input(\"Enter the word you want to check: \")\n",
    "main = string_.split(\" \")\n",
    "count = 0\n",
    "for i in range(len(main)):\n",
    "    if main[i] == x:\n",
    "        count += 1\n",
    "print(count)"
   ]
  },
  {
   "cell_type": "code",
   "execution_count": 13,
   "id": "cfe6b257",
   "metadata": {},
   "outputs": [
    {
     "name": "stdout",
     "output_type": "stream",
     "text": [
      "Enter number: 7\n",
      " 7 is Odd number\n"
     ]
    }
   ],
   "source": [
    "#Write a  program in Python to check whether the given number is even or odd.\n",
    "n = int(input(\"Enter number: \"))\n",
    "if n%2 == 0:\n",
    "    print(f\" {n} is Even number\")\n",
    "else:\n",
    "    print(f\" {n} is Odd number\")"
   ]
  },
  {
   "cell_type": "code",
   "execution_count": 14,
   "id": "0f6a3880",
   "metadata": {},
   "outputs": [
    {
     "name": "stdout",
     "output_type": "stream",
     "text": [
      "Enter number one 451\n",
      "Enter number two 300\n",
      "The result is  751\n"
     ]
    }
   ],
   "source": [
    "#Given two integer numbers return their product. If the product is greater than 500, then return their sum.\n",
    "# Procedural approach\n",
    "num1 = int(input(\"Enter number one \")) \n",
    "num2 = int(input(\"Enter number two \")) \n",
    "if(num1 * num2 == 500):\n",
    "    print(\"The result is \",num1*num2)\n",
    "else:\n",
    "    print(\"The result is \",num1+num2)"
   ]
  },
  {
   "cell_type": "code",
   "execution_count": 15,
   "id": "9edd96e9",
   "metadata": {},
   "outputs": [
    {
     "name": "stdout",
     "output_type": "stream",
     "text": [
      "400\n"
     ]
    }
   ],
   "source": [
    "#Given two integer numbers return their product. If the product is greater than 500, then return their sum.\n",
    "# Functional approach\n",
    "def exec(x,y):\n",
    "    if(x*y < 500):\n",
    "        print(x*y)\n",
    "    else:\n",
    "        print(\"The result is \",x+y)\n",
    "exec(20,20)"
   ]
  },
  {
   "cell_type": "code",
   "execution_count": 16,
   "id": "70fb5db8",
   "metadata": {},
   "outputs": [
    {
     "name": "stdout",
     "output_type": "stream",
     "text": [
      "Enter value 1: 4\n",
      "Enter value 2: 4\n",
      "Enter value 3: 8\n",
      "8 is greatest\n"
     ]
    }
   ],
   "source": [
    "#Write a program to print the greatest of three number.\n",
    "num1 = int(input(\"Enter value 1: \")) \n",
    "num2 = int(input(\"Enter value 2: \"))\n",
    "num3 = int(input(\"Enter value 3: \"))\n",
    "if( num1 > num2 and num1 > num3):\n",
    "    print(f\"{num1} is greatest\")\n",
    "elif( num2 > num1 and num2 > num3):\n",
    "    print(f\"{num2} is greatest\")\n",
    "else:\n",
    "    print(f\"{num3} is greatest\")"
   ]
  },
  {
   "cell_type": "code",
   "execution_count": 17,
   "id": "a8c33bcc",
   "metadata": {},
   "outputs": [
    {
     "name": "stdout",
     "output_type": "stream",
     "text": [
      "10 15 20 25 30 35 40 45 "
     ]
    }
   ],
   "source": [
    "#Write a program to print all numbers multiple of 5 from the range 10 – 50. \n",
    "# Functional approach\n",
    "def exec(x,y):\n",
    "    for i in range(x,y):\n",
    "        if i%5 == 0:\n",
    "            print(i, end=\" \")\n",
    "exec(10,50)"
   ]
  },
  {
   "cell_type": "code",
   "execution_count": 18,
   "id": "a1aeef4f",
   "metadata": {},
   "outputs": [
    {
     "name": "stdout",
     "output_type": "stream",
     "text": [
      "True\n",
      "False\n"
     ]
    }
   ],
   "source": [
    "# Write a program to check, the first and last elements of the list is same or not. If same print True else False. \n",
    "# Functional approach\n",
    "def exec(x):\n",
    "    if(x[0] == x[len(x)-1]):\n",
    "        print(True)\n",
    "    else:\n",
    "        print(False)\n",
    "\n",
    "exec([1,2,3,4,5,6,7,1])\n",
    "exec([1,2,3,4,5,6,7,8])"
   ]
  },
  {
   "cell_type": "code",
   "execution_count": 19,
   "id": "bce6e1da",
   "metadata": {},
   "outputs": [
    {
     "name": "stdout",
     "output_type": "stream",
     "text": [
      "40 fahrenheit is equal to 4.444444444444445 celcius\n"
     ]
    }
   ],
   "source": [
    "#Write a program to convert, the Fahrenheit value to Celcius. [Formula : F=9/5(c)+32] \n",
    "# Functional approach\n",
    "def exec(fh):\n",
    "    #Formula\n",
    "    celcius = (fh-32)*5/9\n",
    "    print(f\"{fh} fahrenheit is equal to {celcius} celcius\")\n",
    "exec(40)"
   ]
  },
  {
   "cell_type": "code",
   "execution_count": 20,
   "id": "eacae193",
   "metadata": {},
   "outputs": [
    {
     "name": "stdout",
     "output_type": "stream",
     "text": [
      "\n",
      "\n",
      "* \n",
      "\n",
      "* * \n",
      "\n",
      "* * * \n",
      "\n",
      "* * * * \n",
      "\n",
      "* * * * * \n",
      "\n"
     ]
    }
   ],
   "source": [
    "# Write a program to print a right angled triangle pattern\n",
    "# Functional approach\n",
    "def exec(fh):\n",
    "    for i in range(fh):\n",
    "        for j in range(i):\n",
    "            print(\"*\",end=\" \")\n",
    "        print(\"\\n\")\n",
    "exec(6)"
   ]
  },
  {
   "cell_type": "code",
   "execution_count": 23,
   "id": "dc3a6a04",
   "metadata": {},
   "outputs": [
    {
     "name": "stdout",
     "output_type": "stream",
     "text": [
      "enter the first number for addition: 5\n",
      "enter the second number for addition: 9\n",
      "sum: 5.0 + 9.0 = 14.0\n"
     ]
    }
   ],
   "source": [
    "#addition\n",
    "num1=float(input(\"enter the first number for addition: \"))\n",
    "num2=float(input(\"enter the second number for addition: \"))\n",
    "sum_result=num1 + num2\n",
    "print(f\"sum: {num1} + {num2} = {sum_result}\")"
   ]
  },
  {
   "cell_type": "code",
   "execution_count": 24,
   "id": "81032c48",
   "metadata": {},
   "outputs": [
    {
     "name": "stdout",
     "output_type": "stream",
     "text": [
      "enter the dividend for division: 88\n",
      "enter the divisor for division: 2\n",
      "division:88.0/2.0= 44.0\n"
     ]
    }
   ],
   "source": [
    "#division\n",
    "num3=float(input(\"enter the dividend for division: \"))\n",
    "num4=float(input(\"enter the divisor for division: \"))\n",
    "if num4==0:\n",
    "    print(\"Error:Division by zero is not allowed\")\n",
    "else:\n",
    "    div_result=num3/num4\n",
    "    print(f\"division:{num3}/{num4}= {div_result}\")"
   ]
  },
  {
   "cell_type": "code",
   "execution_count": 25,
   "id": "3c0008c6",
   "metadata": {},
   "outputs": [
    {
     "name": "stdout",
     "output_type": "stream",
     "text": [
      "enter the length of the base of the triangle: 15\n",
      "enter the height of the triangle: 20\n",
      "the area of the triangle is: 150.0\n"
     ]
    }
   ],
   "source": [
    "#to find the area of a triangle\n",
    "#input the base and height from the user\n",
    "base=float(input(\"enter the length of the base of the triangle: \"))\n",
    "height=float(input(\"enter the height of the triangle: \"))\n",
    "#calculate the area of the triangle\n",
    "area=0.5 * base * height\n",
    "print(f\"the area of the triangle is: {area}\")"
   ]
  },
  {
   "cell_type": "code",
   "execution_count": 26,
   "id": "202c4098",
   "metadata": {},
   "outputs": [
    {
     "name": "stdout",
     "output_type": "stream",
     "text": [
      "enter distance in kilometres: 200\n",
      "200.0 kilometres is equal to 124.27420000000001 miles\n"
     ]
    }
   ],
   "source": [
    "#to convert kilometres into miles\n",
    "kilometres=float(input(\"enter distance in kilometres: \"))\n",
    "#conversion factor: 1 kilometre =0.621371 miles\n",
    "conversion_factor= 0.621371\n",
    "miles=kilometres * conversion_factor\n",
    "print(f\"{kilometres} kilometres is equal to {miles} miles\")"
   ]
  },
  {
   "cell_type": "code",
   "execution_count": 29,
   "id": "44ec467e",
   "metadata": {},
   "outputs": [
    {
     "name": "stdout",
     "output_type": "stream",
     "text": [
      "enter temperature in celsius38\n",
      "38.0 degrees celsius is equal to 100.4 degrees fahrenheit\n"
     ]
    }
   ],
   "source": [
    "#to convert celsius to fahrenheit\n",
    "celsius=float(input(\"enter temperature in celsius\"))\n",
    "\n",
    "#conversion formula: fahrenheit = (celsius * 9/5) + 32\n",
    "fahrenheit = (celsius * 9/5) + 32\n",
    "print(f\"{celsius} degrees celsius is equal to {fahrenheit} degrees fahrenheit\")"
   ]
  },
  {
   "cell_type": "code",
   "execution_count": 30,
   "id": "ec2df28f",
   "metadata": {},
   "outputs": [
    {
     "name": "stdout",
     "output_type": "stream",
     "text": [
      "enter year: 2024\n",
      "enter month: 4\n",
      "     April 2024\n",
      "Mo Tu We Th Fr Sa Su\n",
      " 1  2  3  4  5  6  7\n",
      " 8  9 10 11 12 13 14\n",
      "15 16 17 18 19 20 21\n",
      "22 23 24 25 26 27 28\n",
      "29 30\n",
      "\n"
     ]
    }
   ],
   "source": [
    "#to display calendar\n",
    "import calendar\n",
    "\n",
    "year=int(input(\"enter year: \"))\n",
    "month=int(input(\"enter month: \"))\n",
    "\n",
    "cal=calendar.month(year,month)\n",
    "print(cal)"
   ]
  },
  {
   "cell_type": "code",
   "execution_count": 33,
   "id": "b349f216",
   "metadata": {},
   "outputs": [
    {
     "name": "stdout",
     "output_type": "stream",
     "text": [
      "enter a number: -1\n",
      "neagtive number\n"
     ]
    }
   ],
   "source": [
    "#to check if a number is positive,negative or zero\n",
    "num=float(input(\"enter a number: \"))\n",
    "if num>0:\n",
    "    print(\"positive number\")\n",
    "elif num==0:\n",
    "    print(\"zero\")\n",
    "else:\n",
    "    print(\"neagtive number\")"
   ]
  },
  {
   "cell_type": "code",
   "execution_count": 35,
   "id": "899d09e9",
   "metadata": {},
   "outputs": [
    {
     "name": "stdout",
     "output_type": "stream",
     "text": [
      "enter a number: 8\n",
      "this is an even number\n"
     ]
    }
   ],
   "source": [
    "#To check if a number is even or odd\n",
    "num=int(input(\"enter a number: \"))\n",
    "if num%2==0:\n",
    "    print(\"this is an even number\")\n",
    "else:\n",
    "    print(\"this is an odd number\")"
   ]
  },
  {
   "cell_type": "code",
   "execution_count": 37,
   "id": "496fe882",
   "metadata": {},
   "outputs": [
    {
     "name": "stdout",
     "output_type": "stream",
     "text": [
      "enter a year: 2023\n",
      "2023 is not a leap year\n"
     ]
    }
   ],
   "source": [
    "#to check if a year is leap year or not\n",
    "year=int(input(\"enter a year: \"))\n",
    "\n",
    "#divided by 100 means century year(ending with 00)\n",
    "#century year divided by 400 is a leap year\n",
    "if (year%400==0) and (year%100==0):\n",
    "    print(\"{0} is a leap year\".format(year))\n",
    "    \n",
    "#not divided by 100 means not a century year\n",
    "#year divided by 4 is a leap year\n",
    "if (year%4==0) and (year%100!=0):\n",
    "    print(\"{0} is a leap year\".format(year))\n",
    "\n",
    "    #if not divided by both 400(century year) and 4(not century year) year is not a leap year\n",
    "else:\n",
    "    print(\"{0} is not a leap year\".format(year))\n",
    " "
   ]
  },
  {
   "cell_type": "code",
   "execution_count": 43,
   "id": "578d0c5e",
   "metadata": {},
   "outputs": [
    {
     "name": "stdout",
     "output_type": "stream",
     "text": [
      "enter a number: 3\n",
      "3, is a prime number\n"
     ]
    }
   ],
   "source": [
    "#to check prime number\n",
    "num=int(input(\"enter a number: \"))\n",
    "\n",
    "#define a flag variable\n",
    "flag=False\n",
    "\n",
    "if num==1:\n",
    "    print(f\"{num}, is not a prime number\")\n",
    "elif num>1:\n",
    "    #check for factors\n",
    "    for i in range(2,num):\n",
    "        if (num%i)==0:\n",
    "            flag=True  #if factor is found set flag to true\n",
    "            #break out of the loop'\n",
    "            break\n",
    "            \n",
    "        #check if the flag is true\n",
    "if flag:\n",
    "    print(f\"{num}, is not a prime number\")\n",
    "else:\n",
    "    print(f\"{num}, is a prime number\")"
   ]
  },
  {
   "cell_type": "code",
   "execution_count": 46,
   "id": "1b9dcb78",
   "metadata": {},
   "outputs": [
    {
     "name": "stdout",
     "output_type": "stream",
     "text": [
      "prime numbers between 1 and 10 are: \n",
      "2\n",
      "3\n",
      "5\n",
      "7\n"
     ]
    }
   ],
   "source": [
    "#print all prime numbers in an interval of 1-10\n",
    "lower = 1 \n",
    "upper = 10\n",
    "\n",
    "print(\"prime numbers between\",lower,\"and\",upper,\"are: \")\n",
    "\n",
    "for num in range(lower,upper+1):\n",
    "#all prime numbers are greater than 1 \n",
    "    if num>1:\n",
    "        for i in range(2,num):\n",
    "            if (num%i)==0:\n",
    "                break\n",
    "        else:\n",
    "            print(num)"
   ]
  },
  {
   "cell_type": "code",
   "execution_count": 52,
   "id": "7a61056a",
   "metadata": {},
   "outputs": [
    {
     "name": "stdout",
     "output_type": "stream",
     "text": [
      "enter a number: 4\n",
      "the factorial of 4 is 24\n"
     ]
    }
   ],
   "source": [
    "#to find the factorial of a number\n",
    "num=int(input(\"enter a number: \"))\n",
    "factorial = 1\n",
    "if num<0:\n",
    "    print(\"factorial does not exist for negative numbers\")\n",
    "elif num==0:\n",
    "    print(\"factorial of 0 is 1\")\n",
    "else:\n",
    "    for i in range(1,num+1):\n",
    "        factorial=factorial * i\n",
    "    print(f\"the factorial of {num} is {factorial}\")"
   ]
  },
  {
   "cell_type": "code",
   "execution_count": 55,
   "id": "7f0b0f16",
   "metadata": {},
   "outputs": [
    {
     "name": "stdout",
     "output_type": "stream",
     "text": [
      "display multiplication table of : 32\n",
      "32 X 1 = 32\n",
      "32 X 2 = 64\n",
      "32 X 3 = 96\n",
      "32 X 4 = 128\n",
      "32 X 5 = 160\n",
      "32 X 6 = 192\n",
      "32 X 7 = 224\n",
      "32 X 8 = 256\n",
      "32 X 9 = 288\n",
      "32 X 10 = 320\n"
     ]
    }
   ],
   "source": [
    "#display the multiplication table \n",
    "num= int(input(\"display multiplication table of : \"))\n",
    "\n",
    "for i in range(1,11):\n",
    "    print(f\"{num} X {i} = {num*i}\")"
   ]
  }
 ],
 "metadata": {
  "kernelspec": {
   "display_name": "Python 3 (ipykernel)",
   "language": "python",
   "name": "python3"
  },
  "language_info": {
   "codemirror_mode": {
    "name": "ipython",
    "version": 3
   },
   "file_extension": ".py",
   "mimetype": "text/x-python",
   "name": "python",
   "nbconvert_exporter": "python",
   "pygments_lexer": "ipython3",
   "version": "3.11.5"
  }
 },
 "nbformat": 4,
 "nbformat_minor": 5
}
